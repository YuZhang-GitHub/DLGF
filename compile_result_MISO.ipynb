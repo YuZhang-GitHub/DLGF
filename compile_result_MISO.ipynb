{
 "cells": [
  {
   "cell_type": "code",
   "execution_count": 2,
   "metadata": {},
   "outputs": [],
   "source": [
    "import numpy as np\n",
    "import matplotlib.pyplot as plt\n",
    "import torch.utils.data\n",
    "from sklearn.model_selection import train_test_split\n",
    "from beam_utils import ULA_DFT_codebook,UPA_DFT_codebook,calc_beam_pattern,pow_2_dB,dB_2_pow\n",
    "import torch\n",
    "from DL_utils_MISO import BF_Autoencoder\n",
    "import DeepMIMO\n",
    "from os.path import exists"
   ]
  },
  {
   "cell_type": "code",
   "execution_count": 5,
   "metadata": {},
   "outputs": [],
   "source": [
    "scenario = 'Boston5G_28'\n",
    "activated_BS = 1\n",
    "random_UE_rotation = False\n",
    "array_type = 'ULA'\n",
    "\n",
    "tx_power_dBm = 40\n",
    "noise_PSD_dB = -161\n",
    "BW = 50e6\n",
    "noise_power_dBm = noise_PSD_dB + 10*np.log10(BW) # dBm\n",
    "measurement_gain = 32.0\n",
    "measurement_gain_dB = 10*np.log10(measurement_gain)\n",
    "IA_threshold = -5\n",
    "measurement_noise_power = 10**((noise_power_dBm-tx_power_dBm)/10)/measurement_gain\n",
    "h_NMSE_dB = -np.inf\n",
    "dataset_split_seed = 7\n",
    "BS_array_shape = np.array([1,64,1])"
   ]
  },
  {
   "cell_type": "code",
   "execution_count": 6,
   "metadata": {},
   "outputs": [
    {
     "name": "stdout",
     "output_type": "stream",
     "text": [
      "\n",
      "Basestation 1\n",
      "\n",
      "UE-BS Channels\n"
     ]
    },
    {
     "name": "stderr",
     "output_type": "stream",
     "text": [
      "Reading ray-tracing:   0%|          | 605/965090 [00:00<13:56, 1152.71it/s]\n"
     ]
    },
    {
     "ename": "KeyboardInterrupt",
     "evalue": "",
     "output_type": "error",
     "traceback": [
      "\u001b[1;31m---------------------------------------------------------------------------\u001b[0m",
      "\u001b[1;31mKeyboardInterrupt\u001b[0m                         Traceback (most recent call last)",
      "\u001b[1;32m~\\AppData\\Local\\Temp\\ipykernel_16592\\2037178898.py\u001b[0m in \u001b[0;36m<cell line: 33>\u001b[1;34m()\u001b[0m\n\u001b[0;32m     31\u001b[0m \u001b[0mparameters\u001b[0m\u001b[1;33m[\u001b[0m\u001b[1;34m'OFDM'\u001b[0m\u001b[1;33m]\u001b[0m\u001b[1;33m[\u001b[0m\u001b[1;34m'RX_filter'\u001b[0m\u001b[1;33m]\u001b[0m \u001b[1;33m=\u001b[0m \u001b[1;36m0\u001b[0m\u001b[1;33m\u001b[0m\u001b[1;33m\u001b[0m\u001b[0m\n\u001b[0;32m     32\u001b[0m \u001b[1;33m\u001b[0m\u001b[0m\n\u001b[1;32m---> 33\u001b[1;33m \u001b[0mdataset\u001b[0m \u001b[1;33m=\u001b[0m \u001b[0mDeepMIMO\u001b[0m\u001b[1;33m.\u001b[0m\u001b[0mgenerate_data\u001b[0m\u001b[1;33m(\u001b[0m\u001b[0mparameters\u001b[0m\u001b[1;33m)\u001b[0m\u001b[1;33m\u001b[0m\u001b[1;33m\u001b[0m\u001b[0m\n\u001b[0m\u001b[0;32m     34\u001b[0m \u001b[1;33m\u001b[0m\u001b[0m\n\u001b[0;32m     35\u001b[0m dataset_savefname = './Data/{}_{}x{}x{}.npy'.format(scenario,\n",
      "\u001b[1;32me:\\Anaconda\\envs\\p39\\lib\\site-packages\\DeepMIMO\\generator.py\u001b[0m in \u001b[0;36mgenerate_data\u001b[1;34m(params)\u001b[0m\n\u001b[0;32m     43\u001b[0m                                     \u001b[0mparams\u001b[0m\u001b[1;33m[\u001b[0m\u001b[0mc\u001b[0m\u001b[1;33m.\u001b[0m\u001b[0mPARAMSET_SCENARIO\u001b[0m\u001b[1;33m]\u001b[0m\u001b[1;33m\u001b[0m\u001b[1;33m\u001b[0m\u001b[0m\n\u001b[0;32m     44\u001b[0m                                     )\n\u001b[1;32m---> 45\u001b[1;33m         \u001b[0mdataset\u001b[0m \u001b[1;33m=\u001b[0m \u001b[0mgenerate_scene_data\u001b[0m\u001b[1;33m(\u001b[0m\u001b[0mparams\u001b[0m\u001b[1;33m)\u001b[0m\u001b[1;33m\u001b[0m\u001b[1;33m\u001b[0m\u001b[0m\n\u001b[0m\u001b[0;32m     46\u001b[0m     \u001b[1;32mreturn\u001b[0m \u001b[0mdataset\u001b[0m\u001b[1;33m\u001b[0m\u001b[1;33m\u001b[0m\u001b[0m\n\u001b[0;32m     47\u001b[0m \u001b[1;33m\u001b[0m\u001b[0m\n",
      "\u001b[1;32me:\\Anaconda\\envs\\p39\\lib\\site-packages\\DeepMIMO\\generator.py\u001b[0m in \u001b[0;36mgenerate_scene_data\u001b[1;34m(params)\u001b[0m\n\u001b[0;32m     56\u001b[0m \u001b[1;33m\u001b[0m\u001b[0m\n\u001b[0;32m     57\u001b[0m         \u001b[0msafe_print\u001b[0m\u001b[1;33m(\u001b[0m\u001b[1;34m'\\nUE-BS Channels'\u001b[0m\u001b[1;33m)\u001b[0m\u001b[1;33m\u001b[0m\u001b[1;33m\u001b[0m\u001b[0m\n\u001b[1;32m---> 58\u001b[1;33m         \u001b[0mdataset\u001b[0m\u001b[1;33m[\u001b[0m\u001b[0mi\u001b[0m\u001b[1;33m]\u001b[0m\u001b[1;33m[\u001b[0m\u001b[0mc\u001b[0m\u001b[1;33m.\u001b[0m\u001b[0mDICT_UE_IDX\u001b[0m\u001b[1;33m]\u001b[0m\u001b[1;33m,\u001b[0m \u001b[0mdataset\u001b[0m\u001b[1;33m[\u001b[0m\u001b[0mi\u001b[0m\u001b[1;33m]\u001b[0m\u001b[1;33m[\u001b[0m\u001b[0mc\u001b[0m\u001b[1;33m.\u001b[0m\u001b[0mOUT_LOC\u001b[0m\u001b[1;33m]\u001b[0m \u001b[1;33m=\u001b[0m \u001b[0mread_raytracing\u001b[0m\u001b[1;33m(\u001b[0m\u001b[0mbs_indx\u001b[0m\u001b[1;33m,\u001b[0m \u001b[0mparams\u001b[0m\u001b[1;33m,\u001b[0m \u001b[0muser\u001b[0m\u001b[1;33m=\u001b[0m\u001b[1;32mTrue\u001b[0m\u001b[1;33m)\u001b[0m\u001b[1;33m\u001b[0m\u001b[1;33m\u001b[0m\u001b[0m\n\u001b[0m\u001b[0;32m     59\u001b[0m         dataset[i][c.DICT_UE_IDX][c.OUT_CHANNEL] = generate_MIMO_channel(dataset[i][c.DICT_UE_IDX][c.OUT_PATH], \n\u001b[0;32m     60\u001b[0m                                                                                                  \u001b[0mparams\u001b[0m\u001b[1;33m,\u001b[0m\u001b[1;33m\u001b[0m\u001b[1;33m\u001b[0m\u001b[0m\n",
      "\u001b[1;32me:\\Anaconda\\envs\\p39\\lib\\site-packages\\DeepMIMO\\raytracing.py\u001b[0m in \u001b[0;36mread_raytracing\u001b[1;34m(bs_id, params, user)\u001b[0m\n\u001b[0;32m     27\u001b[0m \u001b[1;33m\u001b[0m\u001b[0m\n\u001b[0;32m     28\u001b[0m     \u001b[0mray_data\u001b[0m \u001b[1;33m=\u001b[0m \u001b[0mload_ray_data\u001b[0m\u001b[1;33m(\u001b[0m\u001b[0mscenario_files\u001b[0m\u001b[1;33m,\u001b[0m \u001b[0mbs_id\u001b[0m\u001b[1;33m,\u001b[0m \u001b[0muser\u001b[0m\u001b[1;33m=\u001b[0m\u001b[0muser\u001b[0m\u001b[1;33m)\u001b[0m\u001b[1;33m\u001b[0m\u001b[1;33m\u001b[0m\u001b[0m\n\u001b[1;32m---> 29\u001b[1;33m     \u001b[0mdata\u001b[0m \u001b[1;33m=\u001b[0m \u001b[0mextract_data_from_ray\u001b[0m\u001b[1;33m(\u001b[0m\u001b[0mray_data\u001b[0m\u001b[1;33m,\u001b[0m \u001b[0mgeneration_idx\u001b[0m\u001b[1;33m,\u001b[0m \u001b[0mparams\u001b[0m\u001b[1;33m)\u001b[0m\u001b[1;33m\u001b[0m\u001b[1;33m\u001b[0m\u001b[0m\n\u001b[0m\u001b[0;32m     30\u001b[0m \u001b[1;33m\u001b[0m\u001b[0m\n\u001b[0;32m     31\u001b[0m     \u001b[0mbs_loc\u001b[0m \u001b[1;33m=\u001b[0m \u001b[0mload_bs_loc\u001b[0m\u001b[1;33m(\u001b[0m\u001b[0mscenario_files\u001b[0m\u001b[1;33m,\u001b[0m \u001b[0mbs_id\u001b[0m\u001b[1;33m)\u001b[0m\u001b[1;33m\u001b[0m\u001b[1;33m\u001b[0m\u001b[0m\n",
      "\u001b[1;32me:\\Anaconda\\envs\\p39\\lib\\site-packages\\DeepMIMO\\raytracing.py\u001b[0m in \u001b[0;36mextract_data_from_ray\u001b[1;34m(ray_data, ids, params)\u001b[0m\n\u001b[0;32m     66\u001b[0m         \u001b[0mpointer\u001b[0m \u001b[1;33m+=\u001b[0m \u001b[1;36m1\u001b[0m \u001b[1;31m# First Path\u001b[0m\u001b[1;33m\u001b[0m\u001b[1;33m\u001b[0m\u001b[0m\n\u001b[0;32m     67\u001b[0m         \u001b[1;32mif\u001b[0m \u001b[0muser\u001b[0m \u001b[1;32min\u001b[0m \u001b[0mids\u001b[0m\u001b[1;33m:\u001b[0m\u001b[1;33m\u001b[0m\u001b[1;33m\u001b[0m\u001b[0m\n\u001b[1;32m---> 68\u001b[1;33m             \u001b[0mnum_paths_read\u001b[0m \u001b[1;33m=\u001b[0m \u001b[0mmin\u001b[0m\u001b[1;33m(\u001b[0m\u001b[0mnum_paths_available\u001b[0m\u001b[1;33m,\u001b[0m \u001b[0mparams\u001b[0m\u001b[1;33m[\u001b[0m\u001b[0mc\u001b[0m\u001b[1;33m.\u001b[0m\u001b[0mPARAMSET_NUM_PATHS\u001b[0m\u001b[1;33m]\u001b[0m\u001b[1;33m)\u001b[0m\u001b[1;33m\u001b[0m\u001b[1;33m\u001b[0m\u001b[0m\n\u001b[0m\u001b[0;32m     69\u001b[0m             \u001b[0mpath_limited_data_length\u001b[0m \u001b[1;33m=\u001b[0m \u001b[0mnum_paths_read\u001b[0m\u001b[1;33m*\u001b[0m\u001b[1;36m4\u001b[0m\u001b[1;33m;\u001b[0m\u001b[1;33m\u001b[0m\u001b[1;33m\u001b[0m\u001b[0m\n\u001b[0;32m     70\u001b[0m \u001b[1;33m\u001b[0m\u001b[0m\n",
      "\u001b[1;31mKeyboardInterrupt\u001b[0m: "
     ]
    }
   ],
   "source": [
    "scenario == 'Boston5G_28'\n",
    "ue_row_first = 1\n",
    "ue_row_last = 1622\n",
    "\n",
    "parameters = DeepMIMO.default_params()\n",
    "parameters['dataset_folder'] = 'D:/Github Repositories/DeepMIMO-codes/DeepMIMOv2/Raytracing_scenarios'\n",
    "\n",
    "parameters['scenario'] = scenario\n",
    "parameters['num_paths'] = 15\n",
    "parameters['active_BS'] = [activated_BS]\n",
    "parameters['user_row_first'] = ue_row_first\n",
    "parameters['user_row_last'] = ue_row_last\n",
    "parameters['row_subsampling'] = 1\n",
    "parameters['user_subsampling'] = 1\n",
    "\n",
    "parameters['bs_antenna']['shape'] = BS_array_shape\n",
    "parameters['bs_antenna']['spacing'] = 0.5\n",
    "parameters['bs_antenna']['radiation_pattern'] = 'isotropic'\n",
    "\n",
    "parameters['ue_antenna']['shape'] = np.array([1, 1, 1])\n",
    "parameters['ue_antenna']['spacing'] = 0.5\n",
    "parameters['ue_antenna']['radiation_pattern'] = 'isotropic'\n",
    "\n",
    "parameters['enable_BS2BS'] = 0\n",
    "\n",
    "parameters['OFDM_channels'] = 1 # Frequency (OFDM) or time domain channels\n",
    "parameters['OFDM']['subcarriers'] = 512\n",
    "parameters['OFDM']['subcarriers_limit'] = 1\n",
    "parameters['OFDM']['subcarriers_sampling'] = 1\n",
    "parameters['OFDM']['bandwidth'] = BW/1e9\n",
    "parameters['OFDM']['RX_filter'] = 0\n",
    "\n",
    "dataset = DeepMIMO.generate_data(parameters)\n",
    "\n",
    "dataset_savefname = './Data/{}_{}x{}x{}.npy'.format(scenario,\n",
    "                                                BS_array_shape[0],\n",
    "                                                BS_array_shape[1],\n",
    "                                                BS_array_shape[2])\n",
    "\n",
    "if exists(dataset_savefname):\n",
    "    print('Loading dataset...')\n",
    "    h = np.load(dataset_savefname,allow_pickle=True)\n",
    "else:\n",
    "    print('Generating dataset...')\n",
    "    dataset = DeepMIMO.generate_data(parameters)\n",
    "    h = dataset[0]['user']['channel'].squeeze(axis=-1)\n",
    "    valid_ue_idc = np.array([ue_i for (ue_i,ue_h) in enumerate(h) if not (ue_h==0).all()])\n",
    "    print('Keep {} out of {} UEs that have valid paths.'.format(len(valid_ue_idc),h.shape[0]))\n",
    "    h = h[valid_ue_idc]\n",
    "    np.save(dataset_savefname,h,allow_pickle=True)"
   ]
  },
  {
   "cell_type": "code",
   "execution_count": null,
   "metadata": {},
   "outputs": [],
   "source": []
  }
 ],
 "metadata": {
  "kernelspec": {
   "display_name": "p39",
   "language": "python",
   "name": "python3"
  },
  "language_info": {
   "codemirror_mode": {
    "name": "ipython",
    "version": 3
   },
   "file_extension": ".py",
   "mimetype": "text/x-python",
   "name": "python",
   "nbconvert_exporter": "python",
   "pygments_lexer": "ipython3",
   "version": "3.9.7"
  },
  "orig_nbformat": 4
 },
 "nbformat": 4,
 "nbformat_minor": 2
}
